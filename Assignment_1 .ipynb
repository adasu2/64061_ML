{
 "cells": [
  {
   "cell_type": "markdown",
   "metadata": {
    "id": "TDU2XDkxlfVW"
   },
   "source": [
    "Ankith Dasu_Assignment 1: Neural Networks"
   ]
  },
  {
   "cell_type": "markdown",
   "metadata": {
    "id": "t4MkmFQwlfVW"
   },
   "source": [
    "## Classifying movie reviews:"
   ]
  },
  {
   "cell_type": "markdown",
   "metadata": {
    "id": "szRreDCZlfVW"
   },
   "source": [
    "### The IMDB dataset"
   ]
  },
  {
   "cell_type": "code",
   "execution_count": 1,
   "metadata": {
    "colab": {
     "base_uri": "https://localhost:8080/"
    },
    "id": "oqexoNfdlfVX",
    "outputId": "ec6ce025-59bf-4417-b8c8-363850b83b9f"
   },
   "outputs": [
    {
     "name": "stdout",
     "output_type": "stream",
     "text": [
      "Downloading data from https://storage.googleapis.com/tensorflow/tf-keras-datasets/imdb.npz\n",
      "17465344/17464789 [==============================] - 0s 0us/step\n",
      "17473536/17464789 [==============================] - 0s 0us/step\n"
     ]
    }
   ],
   "source": [
    "from tensorflow.keras.datasets import imdb\n",
    "(train_data, train_labels), (test_data, test_labels) = imdb.load_data(\n",
    "    num_words=10000)"
   ]
  },
  {
   "cell_type": "code",
   "execution_count": 2,
   "metadata": {
    "colab": {
     "base_uri": "https://localhost:8080/"
    },
    "id": "OdIRSIGBlfVY",
    "outputId": "6b16e404-5e10-441d-cb6f-ccb2a6366866"
   },
   "outputs": [
    {
     "data": {
      "text/plain": [
       "[1,\n",
       " 14,\n",
       " 22,\n",
       " 16,\n",
       " 43,\n",
       " 530,\n",
       " 973,\n",
       " 1622,\n",
       " 1385,\n",
       " 65,\n",
       " 458,\n",
       " 4468,\n",
       " 66,\n",
       " 3941,\n",
       " 4,\n",
       " 173,\n",
       " 36,\n",
       " 256,\n",
       " 5,\n",
       " 25,\n",
       " 100,\n",
       " 43,\n",
       " 838,\n",
       " 112,\n",
       " 50,\n",
       " 670,\n",
       " 2,\n",
       " 9,\n",
       " 35,\n",
       " 480,\n",
       " 284,\n",
       " 5,\n",
       " 150,\n",
       " 4,\n",
       " 172,\n",
       " 112,\n",
       " 167,\n",
       " 2,\n",
       " 336,\n",
       " 385,\n",
       " 39,\n",
       " 4,\n",
       " 172,\n",
       " 4536,\n",
       " 1111,\n",
       " 17,\n",
       " 546,\n",
       " 38,\n",
       " 13,\n",
       " 447,\n",
       " 4,\n",
       " 192,\n",
       " 50,\n",
       " 16,\n",
       " 6,\n",
       " 147,\n",
       " 2025,\n",
       " 19,\n",
       " 14,\n",
       " 22,\n",
       " 4,\n",
       " 1920,\n",
       " 4613,\n",
       " 469,\n",
       " 4,\n",
       " 22,\n",
       " 71,\n",
       " 87,\n",
       " 12,\n",
       " 16,\n",
       " 43,\n",
       " 530,\n",
       " 38,\n",
       " 76,\n",
       " 15,\n",
       " 13,\n",
       " 1247,\n",
       " 4,\n",
       " 22,\n",
       " 17,\n",
       " 515,\n",
       " 17,\n",
       " 12,\n",
       " 16,\n",
       " 626,\n",
       " 18,\n",
       " 2,\n",
       " 5,\n",
       " 62,\n",
       " 386,\n",
       " 12,\n",
       " 8,\n",
       " 316,\n",
       " 8,\n",
       " 106,\n",
       " 5,\n",
       " 4,\n",
       " 2223,\n",
       " 5244,\n",
       " 16,\n",
       " 480,\n",
       " 66,\n",
       " 3785,\n",
       " 33,\n",
       " 4,\n",
       " 130,\n",
       " 12,\n",
       " 16,\n",
       " 38,\n",
       " 619,\n",
       " 5,\n",
       " 25,\n",
       " 124,\n",
       " 51,\n",
       " 36,\n",
       " 135,\n",
       " 48,\n",
       " 25,\n",
       " 1415,\n",
       " 33,\n",
       " 6,\n",
       " 22,\n",
       " 12,\n",
       " 215,\n",
       " 28,\n",
       " 77,\n",
       " 52,\n",
       " 5,\n",
       " 14,\n",
       " 407,\n",
       " 16,\n",
       " 82,\n",
       " 2,\n",
       " 8,\n",
       " 4,\n",
       " 107,\n",
       " 117,\n",
       " 5952,\n",
       " 15,\n",
       " 256,\n",
       " 4,\n",
       " 2,\n",
       " 7,\n",
       " 3766,\n",
       " 5,\n",
       " 723,\n",
       " 36,\n",
       " 71,\n",
       " 43,\n",
       " 530,\n",
       " 476,\n",
       " 26,\n",
       " 400,\n",
       " 317,\n",
       " 46,\n",
       " 7,\n",
       " 4,\n",
       " 2,\n",
       " 1029,\n",
       " 13,\n",
       " 104,\n",
       " 88,\n",
       " 4,\n",
       " 381,\n",
       " 15,\n",
       " 297,\n",
       " 98,\n",
       " 32,\n",
       " 2071,\n",
       " 56,\n",
       " 26,\n",
       " 141,\n",
       " 6,\n",
       " 194,\n",
       " 7486,\n",
       " 18,\n",
       " 4,\n",
       " 226,\n",
       " 22,\n",
       " 21,\n",
       " 134,\n",
       " 476,\n",
       " 26,\n",
       " 480,\n",
       " 5,\n",
       " 144,\n",
       " 30,\n",
       " 5535,\n",
       " 18,\n",
       " 51,\n",
       " 36,\n",
       " 28,\n",
       " 224,\n",
       " 92,\n",
       " 25,\n",
       " 104,\n",
       " 4,\n",
       " 226,\n",
       " 65,\n",
       " 16,\n",
       " 38,\n",
       " 1334,\n",
       " 88,\n",
       " 12,\n",
       " 16,\n",
       " 283,\n",
       " 5,\n",
       " 16,\n",
       " 4472,\n",
       " 113,\n",
       " 103,\n",
       " 32,\n",
       " 15,\n",
       " 16,\n",
       " 5345,\n",
       " 19,\n",
       " 178,\n",
       " 32]"
      ]
     },
     "execution_count": 2,
     "metadata": {},
     "output_type": "execute_result"
    }
   ],
   "source": [
    "train_data[0]"
   ]
  },
  {
   "cell_type": "code",
   "execution_count": 3,
   "metadata": {
    "colab": {
     "base_uri": "https://localhost:8080/"
    },
    "id": "Inu7ccKslfVY",
    "outputId": "08dc8c94-3af0-4862-b02e-7a246a43576d"
   },
   "outputs": [
    {
     "data": {
      "text/plain": [
       "1"
      ]
     },
     "execution_count": 3,
     "metadata": {},
     "output_type": "execute_result"
    }
   ],
   "source": [
    "train_labels[0]"
   ]
  },
  {
   "cell_type": "code",
   "execution_count": 4,
   "metadata": {
    "colab": {
     "base_uri": "https://localhost:8080/"
    },
    "id": "nvzsVBL9lfVY",
    "outputId": "e3aad266-d081-4d4d-f96f-0a21425579cf"
   },
   "outputs": [
    {
     "data": {
      "text/plain": [
       "9999"
      ]
     },
     "execution_count": 4,
     "metadata": {},
     "output_type": "execute_result"
    }
   ],
   "source": [
    "max([max(sequence) for sequence in train_data])"
   ]
  },
  {
   "cell_type": "markdown",
   "metadata": {
    "id": "EWVcKLO6lfVY"
   },
   "source": [
    "**Decoding reviews back to text**"
   ]
  },
  {
   "cell_type": "code",
   "execution_count": 5,
   "metadata": {
    "colab": {
     "base_uri": "https://localhost:8080/"
    },
    "id": "vY5edS5LlfVY",
    "outputId": "babd8b8d-a370-4379-f766-69063ec93e4e"
   },
   "outputs": [
    {
     "name": "stdout",
     "output_type": "stream",
     "text": [
      "Downloading data from https://storage.googleapis.com/tensorflow/tf-keras-datasets/imdb_word_index.json\n",
      "1646592/1641221 [==============================] - 0s 0us/step\n",
      "1654784/1641221 [==============================] - 0s 0us/step\n"
     ]
    }
   ],
   "source": [
    "word_index = imdb.get_word_index()\n",
    "reverse_word_index = dict(\n",
    "    [(value, key) for (key, value) in word_index.items()])\n",
    "decoded_review = \" \".join(\n",
    "    [reverse_word_index.get(i - 3, \"?\") for i in train_data[0]])"
   ]
  },
  {
   "cell_type": "markdown",
   "metadata": {
    "id": "o3Tnj1hzlfVZ"
   },
   "source": [
    "### Preparing the data"
   ]
  },
  {
   "cell_type": "markdown",
   "metadata": {
    "id": "fVIldlNPlfVZ"
   },
   "source": [
    "**Encoding the integer sequences via multi-hot encoding**"
   ]
  },
  {
   "cell_type": "code",
   "execution_count": 6,
   "metadata": {
    "id": "X4JC16pklfVZ"
   },
   "outputs": [],
   "source": [
    "import numpy as np\n",
    "def vectorize_sequences(sequences, dimension=10000):\n",
    "    results = np.zeros((len(sequences), dimension))\n",
    "    for i, sequence in enumerate(sequences):\n",
    "        for j in sequence:\n",
    "            results[i, j] = 1.\n",
    "    return results\n",
    "x_train = vectorize_sequences(train_data)\n",
    "x_test = vectorize_sequences(test_data)"
   ]
  },
  {
   "cell_type": "code",
   "execution_count": 7,
   "metadata": {
    "colab": {
     "base_uri": "https://localhost:8080/"
    },
    "id": "YKE0jmM8lfVZ",
    "outputId": "7f99c0e9-9630-4688-b258-beb582b1d55b"
   },
   "outputs": [
    {
     "data": {
      "text/plain": [
       "array([0., 1., 1., ..., 0., 0., 0.])"
      ]
     },
     "execution_count": 7,
     "metadata": {},
     "output_type": "execute_result"
    }
   ],
   "source": [
    "x_train[0]"
   ]
  },
  {
   "cell_type": "code",
   "execution_count": 8,
   "metadata": {
    "id": "WEcTqqcMlfVa"
   },
   "outputs": [],
   "source": [
    "y_train = np.asarray(train_labels).astype(\"float32\")\n",
    "y_test = np.asarray(test_labels).astype(\"float32\")"
   ]
  },
  {
   "cell_type": "markdown",
   "metadata": {
    "id": "N5Y7iWZBlfVa"
   },
   "source": [
    "### Building your model"
   ]
  },
  {
   "cell_type": "markdown",
   "metadata": {
    "id": "5PHloqtClfVa"
   },
   "source": [
    "**Model definition**"
   ]
  },
  {
   "cell_type": "markdown",
   "metadata": {
    "id": "e04NrjmUHY_C"
   },
   "source": [
    "In the below code chunk, we are creating layers for the modelHere, I have chosen 3 layers with only 64 nodes as the model overfits if there is another layer or choosing nodes higher than 64.\n",
    "\n",
    "Unlike a sigmoid function that will map input values between 0 and 1, the Tanh will map values between -1 and 1.\n",
    "The activation function tanh can be used as a non-linear activation function between layers of a neural network. \n",
    "\n",
    "Regularization has been implemented here while creating layers as it will impose the model with penalty in the to keep it as simple as possible. I have tried multiple weights and 0.005 seems to make the model as simple as possible."
   ]
  },
  {
   "cell_type": "code",
   "execution_count": 9,
   "metadata": {
    "id": "iwLvbJBXlfVa"
   },
   "outputs": [],
   "source": [
    "from tensorflow import keras\n",
    "from tensorflow.keras import layers\n",
    "from tensorflow.keras import regularizers\n",
    "\n",
    "model = keras.Sequential([\n",
    "    layers.Dense(64,kernel_regularizer=regularizers.l2(0.005), activation=\"tanh\"),\n",
    "    layers.Dense(64,kernel_regularizer=regularizers.l2(0.005), activation=\"tanh\"),\n",
    "    layers.Dense(64,kernel_regularizer=regularizers.l2(0.005), activation=\"tanh\"),\n",
    "    layers.Dense(1, activation=\"sigmoid\")\n",
    "])"
   ]
  },
  {
   "cell_type": "markdown",
   "metadata": {
    "id": "fpMKy9W0lfVa"
   },
   "source": [
    "**Compiling the model**"
   ]
  },
  {
   "cell_type": "markdown",
   "metadata": {
    "id": "cIuPJSGdOd0p"
   },
   "source": [
    "Binary cross entropy loss function measures the performance of a classification model whose output is a probability value between 0 and 1. It is preferred for classification, while mean squared error (MSE) is one of the best choices for regression.\n",
    "\n",
    "MSE tells us how close a regression line is to a set of points. It does this by taking the distances from the points to the regression line and squaring them. The squaring is necessary to remove any negative signs."
   ]
  },
  {
   "cell_type": "code",
   "execution_count": 10,
   "metadata": {
    "id": "z97oE4qflfVb"
   },
   "outputs": [],
   "source": [
    "model.compile(optimizer=\"rmsprop\",\n",
    "              loss=\"mse\",\n",
    "              metrics=[\"accuracy\"])"
   ]
  },
  {
   "cell_type": "markdown",
   "metadata": {
    "id": "eiB8eQeelfVb"
   },
   "source": [
    "### Validating your approach"
   ]
  },
  {
   "cell_type": "markdown",
   "metadata": {
    "id": "rXyL_RaRlfVb"
   },
   "source": [
    "**Setting aside a validation set**"
   ]
  },
  {
   "cell_type": "code",
   "execution_count": 11,
   "metadata": {
    "id": "T53hf9ZclfVb"
   },
   "outputs": [],
   "source": [
    "x_val = x_train[:10000]\n",
    "partial_x_train = x_train[10000:]\n",
    "y_val = y_train[:10000]\n",
    "partial_y_train = y_train[10000:]"
   ]
  },
  {
   "cell_type": "markdown",
   "metadata": {
    "id": "UeCxMu2NlfVb"
   },
   "source": [
    "**Training your model**"
   ]
  },
  {
   "cell_type": "markdown",
   "metadata": {
    "id": "0TSuDxG0Lo6s"
   },
   "source": [
    "/* Here we have used an epoch of 20 which states that the model will be going over the data 20 times with a batch size of 512"
   ]
  },
  {
   "cell_type": "code",
   "execution_count": 12,
   "metadata": {
    "colab": {
     "base_uri": "https://localhost:8080/"
    },
    "id": "p1mZAhpmlfVc",
    "outputId": "abc889fe-5e16-4bd1-e886-888c20f4ddfd"
   },
   "outputs": [
    {
     "name": "stdout",
     "output_type": "stream",
     "text": [
      "Epoch 1/20\n",
      "30/30 [==============================] - 3s 75ms/step - loss: 0.8081 - accuracy: 0.7559 - val_loss: 0.5562 - val_accuracy: 0.8660\n",
      "Epoch 2/20\n",
      "30/30 [==============================] - 2s 61ms/step - loss: 0.4792 - accuracy: 0.8599 - val_loss: 0.3979 - val_accuracy: 0.8672\n",
      "Epoch 3/20\n",
      "30/30 [==============================] - 2s 60ms/step - loss: 0.3427 - accuracy: 0.8760 - val_loss: 0.2859 - val_accuracy: 0.8807\n",
      "Epoch 4/20\n",
      "30/30 [==============================] - 2s 61ms/step - loss: 0.2526 - accuracy: 0.8795 - val_loss: 0.2179 - val_accuracy: 0.8805\n",
      "Epoch 5/20\n",
      "30/30 [==============================] - 2s 62ms/step - loss: 0.1907 - accuracy: 0.8908 - val_loss: 0.1974 - val_accuracy: 0.8445\n",
      "Epoch 6/20\n",
      "30/30 [==============================] - 2s 61ms/step - loss: 0.1533 - accuracy: 0.8969 - val_loss: 0.1565 - val_accuracy: 0.8706\n",
      "Epoch 7/20\n",
      "30/30 [==============================] - 2s 60ms/step - loss: 0.1294 - accuracy: 0.9089 - val_loss: 0.1735 - val_accuracy: 0.8252\n",
      "Epoch 8/20\n",
      "30/30 [==============================] - 2s 61ms/step - loss: 0.1199 - accuracy: 0.9113 - val_loss: 0.1359 - val_accuracy: 0.8776\n",
      "Epoch 9/20\n",
      "30/30 [==============================] - 2s 61ms/step - loss: 0.1125 - accuracy: 0.9207 - val_loss: 0.1313 - val_accuracy: 0.8824\n",
      "Epoch 10/20\n",
      "30/30 [==============================] - 2s 62ms/step - loss: 0.1067 - accuracy: 0.9254 - val_loss: 0.1288 - val_accuracy: 0.8846\n",
      "Epoch 11/20\n",
      "30/30 [==============================] - 2s 61ms/step - loss: 0.1020 - accuracy: 0.9305 - val_loss: 0.1282 - val_accuracy: 0.8837\n",
      "Epoch 12/20\n",
      "30/30 [==============================] - 2s 60ms/step - loss: 0.0999 - accuracy: 0.9322 - val_loss: 0.1333 - val_accuracy: 0.8768\n",
      "Epoch 13/20\n",
      "30/30 [==============================] - 2s 61ms/step - loss: 0.1016 - accuracy: 0.9275 - val_loss: 0.1294 - val_accuracy: 0.8788\n",
      "Epoch 14/20\n",
      "30/30 [==============================] - 2s 61ms/step - loss: 0.0972 - accuracy: 0.9309 - val_loss: 0.1288 - val_accuracy: 0.8788\n",
      "Epoch 15/20\n",
      "30/30 [==============================] - 2s 61ms/step - loss: 0.0949 - accuracy: 0.9347 - val_loss: 0.1265 - val_accuracy: 0.8813\n",
      "Epoch 16/20\n",
      "30/30 [==============================] - 2s 61ms/step - loss: 0.0935 - accuracy: 0.9349 - val_loss: 0.1264 - val_accuracy: 0.8814\n",
      "Epoch 17/20\n",
      "30/30 [==============================] - 2s 60ms/step - loss: 0.0890 - accuracy: 0.9407 - val_loss: 0.1273 - val_accuracy: 0.8776\n",
      "Epoch 18/20\n",
      "30/30 [==============================] - 2s 61ms/step - loss: 0.0897 - accuracy: 0.9406 - val_loss: 0.1379 - val_accuracy: 0.8679\n",
      "Epoch 19/20\n",
      "30/30 [==============================] - 2s 61ms/step - loss: 0.0894 - accuracy: 0.9391 - val_loss: 0.1255 - val_accuracy: 0.8794\n",
      "Epoch 20/20\n",
      "30/30 [==============================] - 2s 60ms/step - loss: 0.0882 - accuracy: 0.9407 - val_loss: 0.1418 - val_accuracy: 0.8588\n"
     ]
    }
   ],
   "source": [
    "history = model.fit(partial_x_train,\n",
    "                    partial_y_train,\n",
    "                    epochs=20,\n",
    "                    batch_size=512,\n",
    "                    validation_data=(x_val, y_val))"
   ]
  },
  {
   "cell_type": "code",
   "execution_count": 13,
   "metadata": {
    "colab": {
     "base_uri": "https://localhost:8080/"
    },
    "id": "lrpM_84glfVc",
    "outputId": "082ed328-49a3-46f4-925f-cfc58d18a439"
   },
   "outputs": [
    {
     "data": {
      "text/plain": [
       "dict_keys(['loss', 'accuracy', 'val_loss', 'val_accuracy'])"
      ]
     },
     "execution_count": 13,
     "metadata": {},
     "output_type": "execute_result"
    }
   ],
   "source": [
    "history_dict = history.history\n",
    "history_dict.keys()"
   ]
  },
  {
   "cell_type": "markdown",
   "metadata": {
    "id": "m3IzDtbhHuSV"
   },
   "source": [
    "From the above 20 Epochs with a batch size of 512, a synopsis can be derived.\n",
    "\n",
    "**Summary for Validation Loss function:**\n",
    "(Activation function = tanh)\n",
    "(Loss = MSE)\n",
    "\n",
    "\n",
    "I have compared using loss functions MSE vs Binary Cross Entropy for different units(16,32,64) keeping the Activation Function 'tanh'(relu for few comparisons) and 3 layers.\n",
    "I have used regularization for MSE with hyper parameter as (0.05)\n",
    "\n",
    "\n",
    "**16 Nodes with 3 Layers. Binary Cross Entropy vs MSE (No regularization)(Activation func: tanh)**\n",
    "In MSE the Valid loss started from 1.10 and decreased to 0.8 up until the 5th epoch and the loss kept increasing. The final loss persent is around 0.17. which is better than Binary CE. \n",
    "In Binary Cross entorpy model the Validation loss started from 0.31 and kept on decreasing till 4 epoch and then there is sharp rise in the loss as the epoch reaches to 20.\n",
    "Summary: Here using MSE, we have got better solution i.e reduced loss function\n",
    "\n",
    "\n",
    "----------------------------------------------------\n",
    "**32 Nodes with 3 Layers. Binary Cross Entropy vs MSE (Using regularization)(Activation func: relu)**\n",
    "\n",
    "Using relu is a bit tricky here.\n",
    "For MSE, the validation loss recorded was around 0.13. There was a continual drop in the loss and validation loss. \n",
    "In the case for BCE the validation loss has reduced until 3 epochs and sharp and steady rise with the recorded value is at 100 % \n",
    "\n",
    "\n",
    "**32 Nodes with 3 Layers. Binary Cross Entropy vs MSE (Using regularization)(Activation func: tanh)**\n",
    "The BCE validation loss started at 0.54 and then it decreased to 0.4 at epoch 20. There has been not much of a decrease. \n",
    "However for MSE model the loss rate started at the 0.5 and reduced to 0.19 and Validation loss started at 0.4 and has dropped to 0.19. \n",
    "\n",
    "With the usage of regularization for MSE with hyper parameter as (0.05), we can see that the models complexity has been descreased when compared to the models which does not have a regularization by checking the training loss which has been low at the end end of epoch iteration.the training and validation loss seems to be parallel to each other with some difference.\n",
    "\n",
    "----------------------------------------------------\n",
    "\n",
    "**64 Nodes with 3 Layers. Binary Cross Entropy vs MSE (Using regularization)(Activation func: relu)**\n",
    "\n",
    "When i compared 16 and 32 nodes with 64, the usage of 64 nodes has been a bit efficient in reducing the validation loss. The initial loss starts around 0.2-0.3 which is better than models which has 32 or 16 nodes per layer. \n",
    "Using BCE, the loss has steadily increased from epoch 1 to epoch 20.\n",
    "The loss for the MSE model fluctuates as the loss seems to be reduced at certain epoch and increases in the next and the same cycle continue till the end of epoch.\n",
    "\n",
    "**64 Nodes with 3 Layers. Binary Cross Entropy vs MSE (Using regularization)(Activation func: tanh)**\n",
    "\n",
    "Using BCE, The training loss started at 1.21 and reduced to 0.3. The loss here started at a very high point. There has not been much decrease in the Validation loss and it was observed to be 0.5 at epoch 20.\n",
    "Using MSE, it is the same as relu which closely follow the uos and downs pattern, the model's loss is decreasing at lenght and same sharp increase as the epoch run\n",
    "\n",
    "\n"
   ]
  },
  {
   "cell_type": "markdown",
   "metadata": {
    "id": "62E8Pi4ylfVc"
   },
   "source": [
    "**Plotting the training and validation loss**"
   ]
  },
  {
   "cell_type": "code",
   "execution_count": 14,
   "metadata": {
    "colab": {
     "base_uri": "https://localhost:8080/",
     "height": 295
    },
    "id": "E3XNczAPlfVc",
    "outputId": "69c82469-d25d-4a1f-c182-4678145881bc"
   },
   "outputs": [
    {
     "data": {
      "image/png": "[encoded data removed]",
      "text/plain": [
       "<Figure size 432x288 with 1 Axes>"
      ]
     },
     "metadata": {
      "needs_background": "light"
     },
     "output_type": "display_data"
    }
   ],
   "source": [
    "import matplotlib.pyplot as plt\n",
    "history_dict = history.history\n",
    "loss_values = history_dict[\"loss\"]\n",
    "val_loss_values = history_dict[\"val_loss\"]\n",
    "epochs = range(1, len(loss_values) + 1)\n",
    "plt.plot(epochs, loss_values, \"bo\", label=\"Training loss\")\n",
    "plt.plot(epochs, val_loss_values, \"b\", label=\"Validation loss\")\n",
    "plt.title(\"Training and validation loss\")\n",
    "plt.xlabel(\"Epochs\")\n",
    "plt.ylabel(\"Loss\")\n",
    "plt.legend()\n",
    "plt.show()"
   ]
  },
  {
   "cell_type": "markdown",
   "metadata": {
    "id": "Z7GlW9VGlfVc"
   },
   "source": [
    "**Plotting the training and validation accuracy**"
   ]
  },
  {
   "cell_type": "code",
   "execution_count": 15,
   "metadata": {
    "colab": {
     "base_uri": "https://localhost:8080/",
     "height": 295
    },
    "id": "Xa4Rr9RvlfVc",
    "outputId": "0321b8fd-2a01-4ad1-de84-1540132226d9"
   },
   "outputs": [
    {
     "data": {
      "image/png": "[encoded data removed]",
      "text/plain": [
       "<Figure size 432x288 with 1 Axes>"
      ]
     },
     "metadata": {
      "needs_background": "light"
     },
     "output_type": "display_data"
    }
   ],
   "source": [
    "plt.clf()\n",
    "acc = history_dict[\"accuracy\"]\n",
    "val_acc = history_dict[\"val_accuracy\"]\n",
    "plt.plot(epochs, acc, \"bo\", label=\"Training acc\")\n",
    "plt.plot(epochs, val_acc, \"b\", label=\"Validation acc\")\n",
    "plt.title(\"Training and validation accuracy\")\n",
    "plt.xlabel(\"Epochs\")\n",
    "plt.ylabel(\"Accuracy\")\n",
    "plt.legend()\n",
    "plt.show()"
   ]
  },
  {
   "cell_type": "markdown",
   "metadata": {
    "id": "Y9g-tkOmiT-O"
   },
   "source": [
    "Summary for Validation accuracy and training accuracy:\n",
    "\n",
    "**16 Nodes, 3 layers (tanh) with regularization l2:**\n",
    "The validation accuracy decreased from epoch 1 to epoch 20. The training accuracy however has been increased with every epoch. \n",
    "\n",
    "\n",
    "**32 Nodes, 3 layers (tanh) with regularization l2:**\n",
    "\n",
    "Training accuracy increased steadily with max accuracy at 95.7%\n",
    "Initially the validation accuracy seems to be decreased, then it has rised to 87% and after a series of ups and downs ended up to the same high point. \n",
    "\n",
    "\n",
    "**64 Nodes, 3 layers (tanh) with regularization l2:**\n",
    "\n",
    " Fluctuations can be noticed for validation accuracy here in this case. The training accuracy ended up being close to 93 % where as the validation accuracy for the models is around 88 %.  By this we can analyse that there is meaning full difference in the data which is used for training and the data used for validation. This can be avoided by using stratified sampling.\n",
    "\n"
   ]
  },
  {
   "cell_type": "markdown",
   "metadata": {
    "id": "RYeguzH_yyuA"
   },
   "source": [
    "------------------------------------------------------------\n",
    "From the above models with different layers and functions, I have observed that \n",
    "the model which has higher nodes seems to have stable model. The training accuracy for all these models remaines to be higher.Using more layers and loss function MSE, it has given me some optimal results"
   ]
  },
  {
   "cell_type": "markdown",
   "metadata": {
    "id": "K3llrRKiy-qm"
   },
   "source": [
    "\n",
    "\n",
    "\n"
   ]
  },
  {
   "cell_type": "markdown",
   "metadata": {
    "id": "9Ds03-1blfVd"
   },
   "source": [
    "**Retraining a model from scratch**"
   ]
  },
  {
   "cell_type": "code",
   "execution_count": 16,
   "metadata": {
    "colab": {
     "base_uri": "https://localhost:8080/"
    },
    "id": "wIjV8i5qlfVd",
    "outputId": "1413caf0-e8bb-4eef-bd61-0a8c3908bcf9"
   },
   "outputs": [
    {
     "name": "stdout",
     "output_type": "stream",
     "text": [
      "Epoch 1/8\n",
      "49/49 [==============================] - 3s 46ms/step - loss: 0.7583 - accuracy: 0.8308\n",
      "Epoch 2/8\n",
      "49/49 [==============================] - 2s 46ms/step - loss: 0.3664 - accuracy: 0.8913\n",
      "Epoch 3/8\n",
      "49/49 [==============================] - 2s 46ms/step - loss: 0.2345 - accuracy: 0.8965\n",
      "Epoch 4/8\n",
      "49/49 [==============================] - 2s 45ms/step - loss: 0.1709 - accuracy: 0.9026\n",
      "Epoch 5/8\n",
      "49/49 [==============================] - 2s 46ms/step - loss: 0.1403 - accuracy: 0.9035\n",
      "Epoch 6/8\n",
      "49/49 [==============================] - 2s 45ms/step - loss: 0.1242 - accuracy: 0.9106\n",
      "Epoch 7/8\n",
      "49/49 [==============================] - 2s 46ms/step - loss: 0.1165 - accuracy: 0.9135\n",
      "Epoch 8/8\n",
      "49/49 [==============================] - 2s 45ms/step - loss: 0.1113 - accuracy: 0.9195\n",
      "782/782 [==============================] - 3s 4ms/step - loss: 0.1305 - accuracy: 0.8808\n"
     ]
    }
   ],
   "source": [
    "model = keras.Sequential([\n",
    "    layers.Dense(64,kernel_regularizer=regularizers.l2(0.005), activation=\"tanh\"),\n",
    "    layers.Dense(64,kernel_regularizer=regularizers.l2(0.005), activation=\"tanh\"),\n",
    "    layers.Dense(64,kernel_regularizer=regularizers.l2(0.005), activation=\"tanh\"),\n",
    "    layers.Dense(1, activation=\"sigmoid\")\n",
    "])\n",
    "model.compile(optimizer=\"adam\",\n",
    "              loss=\"mse\",\n",
    "              metrics=[\"accuracy\"])\n",
    "model.fit(x_train, y_train, epochs=8, batch_size=512)\n",
    "results = model.evaluate(x_test, y_test)"
   ]
  },
  {
   "cell_type": "code",
   "execution_count": 17,
   "metadata": {
    "colab": {
     "base_uri": "https://localhost:8080/"
    },
    "id": "8a3ocENMlfVd",
    "outputId": "4f0cb125-1a89-4d26-b363-a6c219024bbd"
   },
   "outputs": [
    {
     "data": {
      "text/plain": [
       "[0.13054494559764862, 0.8807600140571594]"
      ]
     },
     "execution_count": 17,
     "metadata": {},
     "output_type": "execute_result"
    }
   ],
   "source": [
    "results"
   ]
  },
  {
   "cell_type": "markdown",
   "metadata": {
    "id": "AZdDr3lJi8ww"
   },
   "source": [
    "Summary for test accuracy:\n",
    "\n",
    "**64 Nodes with 3 Layers. (Activation func: tanh), epoch=8;**\n",
    "The test accuracy stands at 88.56 and the loss at the rate:12.45\n",
    "\n",
    "**64 Nodes with 3 Layers. (Activation func: relu), epoch=8;**\n",
    "The test accuracy stands at 88.30 and the loss at the rate:15.17\n",
    "\n",
    "\n",
    "In comparision with the other models with less layers and hidden nodes the model with 3 hidden layers with l2 regularizer (0.005) and 64 hidden nodes seems to be have less loss rate across validation and test, which maintining less complex model and training and test accuracy.\n",
    "\n",
    "I have only used regularization in model building, if we can use both regularization and drop out value, the model accuracy might improve and loss function might minimize. Another depiction which i could observe is the optimizer instead of adam, I have used rmsprop.\n",
    "\n",
    "**Adam as optimiser:**\n",
    "Adam optimizer gives much higher performance than the previously used optimisers and outperforms them by a big margin into giving an optimized gradient descent.\n",
    "\n",
    "Using adam, I have got a test accuracy which stands at 88.08 and the loss at the rate:13.05\n",
    "Adam might improve the optimization of the model which might lead to different results. As you can see in this case, the accuracy has been comparitively less compared to the other.\n",
    "\n",
    "\n"
   ]
  }
 ],
 "metadata": {
  "colab": {
   "collapsed_sections": [],
   "name": "chapter04_getting-started-with-neural-networks.i",
   "provenance": [],
   "toc_visible": true
  },
  "kernelspec": {
   "display_name": "Python 3 (ipykernel)",
   "language": "python",
   "name": "python3"
  },
  "language_info": {
   "codemirror_mode": {
    "name": "ipython",
    "version": 3
   },
   "file_extension": ".py",
   "mimetype": "text/x-python",
   "name": "python",
   "nbconvert_exporter": "python",
   "pygments_lexer": "ipython3",
   "version": "3.9.7"
  }
 },
 "nbformat": 4,
 "nbformat_minor": 1
}
